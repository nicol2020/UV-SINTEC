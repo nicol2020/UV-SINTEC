{
  "nbformat": 4,
  "nbformat_minor": 0,
  "metadata": {
    "kernelspec": {
      "display_name": "Python 3",
      "language": "python",
      "name": "python3"
    },
    "language_info": {
      "codemirror_mode": {
        "name": "ipython",
        "version": 3
      },
      "file_extension": ".py",
      "mimetype": "text/x-python",
      "name": "python",
      "nbconvert_exporter": "python",
      "pygments_lexer": "ipython3",
      "version": "3.8.3"
    },
    "colab": {
      "name": "Mirror_points_9LEDs.ipynb",
      "provenance": [],
      "include_colab_link": true
    }
  },
  "cells": [
    {
      "cell_type": "markdown",
      "metadata": {
        "id": "view-in-github",
        "colab_type": "text"
      },
      "source": [
        "<a href=\"https://colab.research.google.com/github/nicol2020/UV-SINTEC/blob/master/Mirror_points_9LEDs.ipynb\" target=\"_parent\"><img src=\"https://colab.research.google.com/assets/colab-badge.svg\" alt=\"Open In Colab\"/></a>"
      ]
    },
    {
      "cell_type": "markdown",
      "metadata": {
        "id": "m87PlxC46_0L"
      },
      "source": [
        "Current 450mA\n",
        "\n",
        "430nm LED - 7.17 W/m^2 at 10cm distance, 64deg angle\n",
        "\n",
        "660nm LED - 5.54 W/m^2 at 10cm distance, 63deg angle"
      ]
    },
    {
      "cell_type": "code",
      "metadata": {
        "id": "aP2D6nRrOcap"
      },
      "source": [
        "import numpy as np\n",
        "import matplotlib.pylab as plt\n",
        "from mpl_toolkits import mplot3d"
      ],
      "execution_count": null,
      "outputs": []
    },
    {
      "cell_type": "code",
      "metadata": {
        "id": "CNnxBN7rOcas"
      },
      "source": [
        "z = 0.20 #Distance from plane to lamp\n",
        "px = 0.30 # size of plane in x direction\n",
        "py = 0.30 # size of plane in y direction\n",
        "hA = 63# LED Half angle\n",
        "num = (px*100) + 1 #1 cm between points on the plane\n",
        "num = int(num)# set num to integer for indexing purposes\n",
        "\n",
        "#Distances of the individual mirrors from the edge of LED plane \n",
        "r_mirror_d = 0.05 #Right mirror\n",
        "l_mirror_d = 0.05 #Left mirror\n",
        "b_mirror_d = 0.05 #Back mirror\n",
        "f_mirror_d = 0.05 #Front mirror\n",
        "#Set all mirrors equal distance from plane, comment out these lines if you want the mirrors at different distances\n",
        "#l_mirror_d = r_mirror_d\n",
        "#b_mirror_d = r_mirror_d\n",
        "#f_mirror_d = r_mirror_d\n",
        "\n",
        "mirror_height = 'bottom' #If you wish to reduce mirror height from bottom up set this to 'bottom', if you want to reduce height\n",
        "#from top down set this to 'top'\n",
        "z_mirror = 0.10 # Mirror Height "
      ],
      "execution_count": null,
      "outputs": []
    },
    {
      "cell_type": "code",
      "metadata": {
        "colab": {
          "base_uri": "https://localhost:8080/"
        },
        "id": "F8zazrsWOcat",
        "outputId": "fba00b7d-17b1-4112-c341-ff6bc815a68e"
      },
      "source": [
        "#User interface: Asks the user to enter the LED coordinates\n",
        "#When entering coordinates the code will ask where you want point (0,0) to be on the plane\n",
        "coordinates = [] #Storage of coordinates\n",
        "n = input(\"Enter the number of LEDs you wish to use:\\n\")\n",
        "n = int(n)#Number of LEDs\n",
        "zero_zero = input(\"Enter 'left' if you wish to position point (0,0) at the bottom left of plane, enter 'centre if you want point (0,0) to be at the centre of the plane' \")\n",
        "zero_zero = str(zero_zero)#User (0,0) preference\n",
        "i = 1 #Begin the loop at 1\n",
        "while i < n + 1:\n",
        "    LEDX = input(\"Enter x coordinate of LED %s:\\n\"% (i))\n",
        "    LEDX = float(LEDX)\n",
        "    LEDY = input(\"Enter y coordinate of LED %s:\\n\"% (i))\n",
        "    LEDY = float(LEDY)\n",
        "    if zero_zero == 'centre':\n",
        "        LEDX = LEDX + px/2\n",
        "        LEDY = LEDY + py/2\n",
        "    coordinate = [LEDX,LEDY]\n",
        "    coordinates.append(coordinate)\n",
        "    i += 1\n"
      ],
      "execution_count": null,
      "outputs": [
        {
          "output_type": "stream",
          "text": [
            "Enter the number of LEDs you wish to use:\n",
            "8\n",
            "Enter 'left' if you wish to position point (0,0) at the bottom left of plane, enter 'centre if you want point (0,0) to be at the centre of the plane' centre\n",
            "Enter x coordinate of LED 1:\n",
            "-0.13\n",
            "Enter y coordinate of LED 1:\n",
            "0\n",
            "Enter x coordinate of LED 2:\n",
            "-0.13\n",
            "Enter y coordinate of LED 2:\n",
            "-0.13\n",
            "Enter x coordinate of LED 3:\n",
            "-0.13\n",
            "Enter y coordinate of LED 3:\n",
            "0.13\n",
            "Enter x coordinate of LED 4:\n",
            "0\n",
            "Enter y coordinate of LED 4:\n",
            "0.13\n",
            "Enter x coordinate of LED 5:\n",
            "0\n",
            "Enter y coordinate of LED 5:\n",
            "-0.13\n",
            "Enter x coordinate of LED 6:\n",
            "0.13\n",
            "Enter y coordinate of LED 6:\n",
            "0\n",
            "Enter x coordinate of LED 7:\n",
            "0.13\n",
            "Enter y coordinate of LED 7:\n",
            "-0.13\n",
            "Enter x coordinate of LED 8:\n",
            "0.13\n",
            "Enter y coordinate of LED 8:\n",
            "0.13\n"
          ],
          "name": "stdout"
        }
      ]
    },
    {
      "cell_type": "code",
      "metadata": {
        "colab": {
          "base_uri": "https://localhost:8080/"
        },
        "id": "wu5e1EgdOcau",
        "outputId": "b67312cd-8b77-4c4f-e018-ce6eeeebeef0"
      },
      "source": [
        "#User interface: Asks the user to enter Intensity value and half angle for the LEDs\n",
        "\n",
        "\n",
        "hA_list = []#Creating blank array for storing the half angle values of the LEDs\n",
        "I_list = []#Creating blank array for storing the intensity values of the LEDs\n",
        "\n",
        "Intensity_and_hA = input(\"If all LEDs have the same intensity and half angle enter yes, if not enter no\")\n",
        "Intensity_and_hA = str(Intensity_and_hA)\n",
        "        \n",
        "\n",
        "    \n",
        "if Intensity_and_hA == 'yes':\n",
        "    hA = input(\"Enter a value for the half angle of the LEDs in degrees:\\n\")\n",
        "    hA = float(hA)\n",
        "    density_or_intensity = input(\"Enter i if you wish to give LED intensity in Watts, enter d if you wish to give intensity as density at a given height\")\n",
        "    density_or_intensity = str(density_or_intensity)\n",
        "    \n",
        "    if density_or_intensity == 'i':\n",
        "        I = input(\"Enter a value for the intensity of the LEDs in W:\\n\")\n",
        "        I = float(I)\n",
        "    \n",
        "    elif density_or_intensity == 'd':\n",
        "        I_zero = input(\"Enter a value for the intensity of the LEDs at a height in W/m^2:\\n\")\n",
        "        I_zero = float(I_zero)\n",
        "        h = input(\"Enter the height in m:\\n\")\n",
        "        h = float(h)\n",
        "        I = I_zero*(h**2)\n",
        "    \n",
        "    \n",
        "    i = 1\n",
        "    while i < n + 1:\n",
        "        hA_list.append(hA)#Adds the half angle value for each LED to an array\n",
        "        I_list.append(I)#Adds the intensity value for each LED to an array\n",
        "        i += 1\n",
        "\n",
        "        \n",
        "elif Intensity_and_hA == 'no':\n",
        "    i = 1\n",
        "    density_or_intensity = input(\"Enter i if you wish to give LED intensity in Watts, enter d if you wish to give intensity as density at a given height\")\n",
        "    density_or_intensity = str(density_or_intensity)\n",
        "    while i < n + 1:\n",
        "        hA = input(\"Enter a value for the LED half angle in degrees of LED %s:\\n\"% (i))\n",
        "        hA = float(hA) #User input half angle\n",
        "        \n",
        "\n",
        "        if density_or_intensity == 'i':\n",
        "            I = input(\"Enter a value for the intensity of the LED %s in W:\\n\"% (i))\n",
        "            I = float(I)\n",
        "    \n",
        "        elif density_or_intensity == 'd':\n",
        "            I_zero = input(\"Enter a value for the intensity of the LED %s at a height in W/m^2:\\n\"% (i))\n",
        "            I_zero = float(I_zero)\n",
        "            h = input(\"Enter the height in m:\\n\")\n",
        "            h = float(h)\n",
        "            I = I_zero*(h**2)\n",
        "        hA_list.append(hA)#Adds the half angle value for each LED to an array\n",
        "        I_list.append(I)#Adds the intensity value for each LED to an array\n",
        "        i += 1"
      ],
      "execution_count": null,
      "outputs": [
        {
          "output_type": "stream",
          "text": [
            "If all LEDs have the same intensity and half angle enter yes, if not enter noyes\n",
            "Enter a value for the half angle of the LEDs in degrees:\n",
            "63\n",
            "Enter i if you wish to give LED intensity in Watts, enter d if you wish to give intensity as density at a given heightd\n",
            "Enter a value for the intensity of the LEDs at a height in W/m^2:\n",
            "5.54\n",
            "Enter the height in m:\n",
            "0.10\n"
          ],
          "name": "stdout"
        }
      ]
    },
    {
      "cell_type": "code",
      "metadata": {
        "colab": {
          "base_uri": "https://localhost:8080/"
        },
        "id": "dqJWbGTkOcav",
        "outputId": "cf1b12c3-3647-47f4-dcb7-de097beba02b"
      },
      "source": [
        "x = np.outer(1,np.linspace(0,px,num)) #Position on plane in x direction\n",
        "x = np.round(x,3)\n",
        "y = np.outer(np.linspace(0,py,num),1) #Position on plane in y direction\n",
        "y = np.round(y,3)\n",
        "\n",
        "X, Y = np.meshgrid(x,y) #This is required to enable the contour plot\n",
        "\n",
        "E = 0\n",
        "for j in range(0,n,1):\n",
        "    \n",
        "    E_new = E\n",
        "    coor = coordinates[j]\n",
        "    ledx = coor[0]\n",
        "    ledy = coor[1]\n",
        "    I = I_list[j]\n",
        "    hA = hA_list[j]\n",
        "    if hA == 60:\n",
        "        p = 0\n",
        "    else:\n",
        "        p = -(np.log(2)/np.log(np.cos(np.radians(hA))) ) #Variable for changing viewing angle of LED\n",
        "    \n",
        "    opp = np.sqrt((X-ledx)**2+(Y-ledy)**2) #Calculating the parallel distance from the LED to the point on the plane\n",
        "    hyp = np.sqrt(z**2 + opp**2) #Calculating the straight line distance from the LED to the point on the plane\n",
        "    E_n = ((z**(p+1))*I ) / ((hyp**2)**((p+3)/2)) #irradiance of each point on the plane in W/m^2\n",
        "    E = E_n + E_new    \n",
        "M = np.max(E) #Peak of the matrix E\n",
        "minimum = np.min(E) #Minimum irradiance on plane\n",
        "print(minimum)\n",
        "print(M)\n",
        "print(f\"Unifotmiy: {minimum/M}\" )"
      ],
      "execution_count": null,
      "outputs": [
        {
          "output_type": "stream",
          "text": [
            "3.1242666466212077\n",
            "4.4886299056485335\n",
            "Unifotmiy: 0.6960401530742379\n"
          ],
          "name": "stdout"
        }
      ]
    },
    {
      "cell_type": "code",
      "metadata": {
        "colab": {
          "base_uri": "https://localhost:8080/",
          "height": 295
        },
        "id": "mD-gDmwfOcaw",
        "outputId": "3a30bb5d-a36f-4e09-d003-ae650f86dd10"
      },
      "source": [
        "#Plot of light intensity with no mirrors present\n",
        "\n",
        "#V = [0.4,0.5,0.6,0.7,0.8,0.9,0.95,1] #Can use this to set specific contour lines\n",
        "#E = E/M #Uncomment this line if you wish to view uniformity plot\n",
        "#E = E*M\n",
        "fig,ax = plt.subplots(1,1)\n",
        "cp = ax.contourf(X,Y,E)\n",
        "#cp = ax.contourf(X,Y,E,V) #Use this line if you are using your own contour lines\n",
        "#Plots LED position\n",
        "for j in range(0,n,1):\n",
        "    coor = coordinates[j]\n",
        "    ledx = coor[0]\n",
        "    ledy = coor[1]\n",
        "    plt.plot(ledx,ledy,'rx')\n",
        "fig.colorbar(cp)\n",
        "plt.title(\"Irradiance Plot with no Mirrors\")\n",
        "plt.xlabel(\"Distance in x direction on plane\")\n",
        "plt.ylabel(\"Distance in y direction on plane\")\n",
        "plt.grid()\n",
        "#E = E*M #Make sure to uncomment this line if this is a uniformity plot so correct irradiacne values will be added to mirror values"
      ],
      "execution_count": null,
      "outputs": [
        {
          "output_type": "display_data",
          "data": {
            "image/png": "[encoded data removed]",
            "text/plain": [
              "<Figure size 432x288 with 2 Axes>"
            ]
          },
          "metadata": {
            "tags": [],
            "needs_background": "light"
          }
        }
      ]
    },
    {
      "cell_type": "code",
      "metadata": {
        "colab": {
          "base_uri": "https://localhost:8080/"
        },
        "id": "FYG-Ij_hOcaw",
        "outputId": "f4511c96-1df9-4dee-d6f2-928d383845dc"
      },
      "source": [
        "loop = 0\n",
        "E_total = E\n",
        "while loop < n:\n",
        "    \n",
        "    coor = coordinates[loop]\n",
        "    ledx = coor[0]\n",
        "    ledy = coor[1]\n",
        "    I = I_list[loop]\n",
        "    hA = hA_list[loop]\n",
        "    #Right Mirror\n",
        "    if hA == 60:\n",
        "        p = 0\n",
        "    else:\n",
        "        p = -(np.log(2)/np.log(np.cos(np.radians(hA))) ) ### !!!!!!! CORRECT\n",
        "    #Calculating positions on mirror in z and y direction where light is reflected to each point on the plane\n",
        "    ledX = px + r_mirror_d - ledx\n",
        "    mirror_x = X\n",
        "    mirror_x = px + r_mirror_d - mirror_x\n",
        "    mirror_z = mirror_x*z/(mirror_x + ledX)\n",
        "    y_solve = mirror_x/ledX\n",
        "    mirror_y = (y_solve*ledy + Y)/(y_solve + 1)\n",
        "\n",
        "    #Calculating the distance the ray travels before hitting the plane\n",
        "    #Reflected\n",
        "    dist_r = np.sqrt((Y - mirror_y)**2)\n",
        "    adj_r = np.sqrt(mirror_z**2 + dist_r**2)\n",
        "    hyp_r = np.sqrt(mirror_x**2 + adj_r**2)\n",
        "\n",
        "    #Incident\n",
        "    dist_i = np.sqrt((ledy - mirror_y)**2)\n",
        "    adj_i = np.sqrt((z - mirror_z)**2 + dist_i**2)\n",
        "    hyp_i = np.sqrt(ledX**2 + adj_i**2)\n",
        "\n",
        "    hyp_total = hyp_i + hyp_r\n",
        "\n",
        "    E_mirror_r = ((z**(p+1))*I ) / ((hyp_total**2)**((p+3)/2)) #!!!!!!!!!!CORRECT\n",
        "\n",
        "    irradiance_removal = []\n",
        "    for i in range(0,num,1):\n",
        "        height_check = mirror_z[0,i]\n",
        "        if mirror_height == 'top':\n",
        "            if height_check > z_mirror:\n",
        "                irradiance_removal.append(i)\n",
        "        elif mirror_height == 'bottom':\n",
        "            if height_check < z - z_mirror:\n",
        "                irradiance_removal.append(i)\n",
        "\n",
        "    for ele in irradiance_removal:\n",
        "        ele = int(ele)\n",
        "        for j in range(0,num,1):\n",
        "             E_mirror_r[j,ele] = 0\n",
        "\n",
        "    E_total = E_mirror_r + E_total\n",
        "    \n",
        "    \n",
        "    #Left Mirror\n",
        "\n",
        "    #Calculating positions on mirror in z and y direction where light is reflected to each point on the plane\n",
        "    \n",
        "    ledX = l_mirror_d + ledx\n",
        "    mirror_x = X\n",
        "    mirror_x = r_mirror_d + mirror_x\n",
        "\n",
        "    mirror_z = mirror_x*z/(mirror_x + ledX)\n",
        "    y_solve = mirror_x/ledX\n",
        "    mirror_y = (y_solve*ledy + Y)/(y_solve + 1)\n",
        "\n",
        "    #Calculating the distance the ray travels before hitting the plane\n",
        "\n",
        "    #Reflected\n",
        "    dist_r = np.sqrt((Y - mirror_y)**2)\n",
        "    adj_r = np.sqrt(mirror_z**2 + dist_r**2)\n",
        "    hyp_r = np.sqrt(mirror_x**2 + adj_r**2)\n",
        "\n",
        "    #Incident\n",
        "    dist_i = np.sqrt((ledy - mirror_y)**2)\n",
        "    adj_i = np.sqrt((z - mirror_z)**2 + dist_i**2)\n",
        "    hyp_i = np.sqrt(ledX**2 + adj_i**2)\n",
        "\n",
        "    hyp_total = hyp_i + hyp_r\n",
        "\n",
        "    E_mirror_l = ((z**(p+1))*I ) / ((hyp_total**2)**((p+3)/2)) #!!!!!!!!!!CORRECT\n",
        "\n",
        "    irradiance_removal = []\n",
        "    for i in range(0,num,1):\n",
        "        height_check = mirror_z[0,i]\n",
        "        if mirror_height == 'top':\n",
        "            if height_check > z_mirror:\n",
        "                irradiance_removal.append(i)\n",
        "        elif mirror_height == 'bottom':\n",
        "            if height_check < z - z_mirror:\n",
        "                irradiance_removal.append(i)\n",
        "\n",
        "    for ele in irradiance_removal:\n",
        "        ele = int(ele)\n",
        "        for j in range(0,num,1):\n",
        "             E_mirror_l[j,ele] = 0\n",
        "\n",
        "    E_total = E_mirror_l + E_total\n",
        "    \n",
        "    \n",
        "    #Back Mirror\n",
        "\n",
        "    #Calculating positions on mirror in z and y direction where light is reflected to each point on the plane\n",
        "    ledY = py + b_mirror_d - ledy\n",
        "    mirror_y = Y\n",
        "    mirror_y = py + b_mirror_d - mirror_y\n",
        "\n",
        "    mirror_z = mirror_y*z/(mirror_y + ledY)\n",
        "    x_solve = mirror_y/ledY\n",
        "    mirror_x = (x_solve*ledx + X)/(x_solve + 1)\n",
        "\n",
        "    #Calculating the distance the ray travels before hitting the plane\n",
        "\n",
        "    #Reflected\n",
        "    dist_r = np.sqrt((X - mirror_x)**2)\n",
        "    adj_r = np.sqrt(mirror_z**2 + dist_r**2)\n",
        "    hyp_r = np.sqrt(mirror_y**2 + adj_r**2)\n",
        "\n",
        "    #Incident\n",
        "    dist_i = np.sqrt((ledx - mirror_x)**2)\n",
        "    adj_i = np.sqrt((z - mirror_z)**2 + dist_i**2)\n",
        "    hyp_i = np.sqrt(ledY**2 + adj_i**2)\n",
        "\n",
        "    hyp_total = hyp_i + hyp_r\n",
        "\n",
        "    E_mirror_b = ((z**(p+1))*I ) / ((hyp_total**2)**((p+3)/2)) #!!!!!!!!!!CORRECT\n",
        "\n",
        "    irradiance_removal = []\n",
        "    for i in range(0,num,1):\n",
        "        height_check = mirror_z[i]\n",
        "        if mirror_height == 'bottom':\n",
        "            if np.max(height_check) < z - z_mirror:\n",
        "                irradiance_removal.append(i)\n",
        "        elif mirror_height == 'top':\n",
        "            if np.max(height_check) > z_mirror:\n",
        "                irradiance_removal.append(i)\n",
        "\n",
        "    for ele in irradiance_removal:\n",
        "        ele = int(ele)\n",
        "        for t, elem in enumerate(E_mirror_b[ele]):\n",
        "            E_mirror_b[ele][t] = 0\n",
        "\n",
        "    E_total = E_mirror_b + E_total\n",
        "    \n",
        "    \n",
        "    #Front Mirror\n",
        "\n",
        "    #Calculating positions on mirror in z and y direction where light is reflected to each point on the plane\n",
        "    ledY = f_mirror_d + ledy\n",
        "    mirror_y = Y\n",
        "    mirror_y = f_mirror_d + mirror_y\n",
        "\n",
        "    mirror_z = mirror_y*z/(mirror_y + ledY)\n",
        "    x_solve = mirror_y/ledY\n",
        "    mirror_x = (x_solve*ledx + X)/(x_solve + 1)\n",
        "\n",
        "    #Calculating the distance the ray travels before hitting the plane\n",
        "\n",
        "    #Reflected\n",
        "    dist_r = np.sqrt((X - mirror_x)**2)\n",
        "    adj_r = np.sqrt(mirror_z**2 + dist_r**2)\n",
        "    hyp_r = np.sqrt(mirror_y**2 + adj_r**2)\n",
        "\n",
        "    #Incident\n",
        "    dist_i = np.sqrt((ledx - mirror_x)**2)\n",
        "    adj_i = np.sqrt((z - mirror_z)**2 + dist_i**2)\n",
        "    hyp_i = np.sqrt(ledY**2 + adj_i**2)\n",
        "\n",
        "    hyp_total = hyp_i + hyp_r\n",
        "\n",
        "    E_mirror_f = ((z**(p+1))*I ) / ((hyp_total**2)**((p+3)/2)) #!!!!!!!!!!CORRECT\n",
        "\n",
        "\n",
        "    irradiance_removal = []\n",
        "    for i in range(0,num,1):\n",
        "        height_check = mirror_z[i]\n",
        "        if mirror_height == 'bottom':\n",
        "            if np.max(height_check) < z - z_mirror:\n",
        "                irradiance_removal.append(i)\n",
        "        elif mirror_height == 'top':\n",
        "            if np.max(height_check) > z_mirror:\n",
        "                irradiance_removal.append(i)\n",
        "\n",
        "    for ele in irradiance_removal:\n",
        "        ele = int(ele)\n",
        "        for t, elem in enumerate(E_mirror_f[ele]):\n",
        "            E_mirror_f[ele][t] = 0\n",
        "\n",
        "\n",
        "\n",
        "    E_total = E_mirror_f + E_total\n",
        "    \n",
        "    loop += 1\n",
        "    \n",
        "M = np.max(E_total) #Peak of the matrix E\n",
        "minimum = np.min(E_total) #Minimum irradiance on plane\n",
        "print(minimum)\n",
        "print(M)\n",
        "print(f\"Unifotmiy: {minimum/M}\" )"
      ],
      "execution_count": null,
      "outputs": [
        {
          "output_type": "stream",
          "text": [
            "3.4996932071764366\n",
            "6.802099438028968\n",
            "Unifotmiy: 0.5145019179829186\n"
          ],
          "name": "stdout"
        }
      ]
    },
    {
      "cell_type": "code",
      "metadata": {
        "colab": {
          "base_uri": "https://localhost:8080/",
          "height": 295
        },
        "id": "wve0uj7mOca1",
        "outputId": "e9cd6fe4-24b2-4525-be4f-bc205e1f5332"
      },
      "source": [
        "#V = [0.4,0.5,0.6,0.7,0.8,0.9,0.95,1]\n",
        "#E_total = E_total/M\n",
        "#E_total = E_total*M\n",
        "fig,ax = plt.subplots(1,1)\n",
        "cp = ax.contourf(X,Y,E_total)\n",
        "for j in range(0,n,1):\n",
        "    coor = coordinates[j]\n",
        "    ledx = coor[0]\n",
        "    ledy = coor[1]\n",
        "    plt.plot(ledx,ledy,'rx')\n",
        "fig.colorbar(cp)\n",
        "plt.title(\"Contour uniformity plot %s LEDs @ height %s m, mirrors %s m from plane, mirror height %s m\" % (n,z,r_mirror_d, z_mirror))\n",
        "#plt.title(\"Uniformity Plot with no Mirrors\")\n",
        "plt.xlabel(\"Distance in x direction on plane\")\n",
        "plt.ylabel(\"Distance in y direction on plane\")\n",
        "plt.grid()\n",
        "#E_total = E_total*M"
      ],
      "execution_count": null,
      "outputs": [
        {
          "output_type": "display_data",
          "data": {
            "image/png": "[encoded data removed]",
            "text/plain": [
              "<Figure size 432x288 with 2 Axes>"
            ]
          },
          "metadata": {
            "tags": [],
            "needs_background": "light"
          }
        }
      ]
    },
    {
      "cell_type": "code",
      "metadata": {
        "id": "SYaKT-E5Oca3"
      },
      "source": [
        ""
      ],
      "execution_count": null,
      "outputs": []
    }
  ]
}